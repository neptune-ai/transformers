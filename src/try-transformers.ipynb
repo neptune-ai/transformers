{
 "cells": [
  {
   "cell_type": "markdown",
   "metadata": {},
   "source": [
    "TODO:\n",
    "- Find best checkpoint to upload. Will be hacky, so comment on this."
   ]
  },
  {
   "cell_type": "code",
   "execution_count": 1,
   "metadata": {},
   "outputs": [],
   "source": [
    "from datasets import load_dataset, load_metric\n",
    "from transformers import AutoTokenizer, AutoModelForSequenceClassification, TrainingArguments, Trainer, set_seed\n",
    "from torch import nn \n",
    "import torch\n",
    "import numpy as np\n",
    "from transformers.integrations import NeptuneCallback\n",
    "import os\n",
    "\n",
    "set_seed(1)\n",
    "\n",
    "def tokenize_function(X):\n",
    "    return tokenizer(X['sentence1'], X['sentence2'], truncation=True)\n",
    "\n",
    "def compute_metrics(eval_preds):\n",
    "    metric = load_metric(\"glue\", \"mrpc\")\n",
    "    logits, labels = eval_preds\n",
    "    predictions = np.argmax(logits, axis=1)\n",
    "    return metric.compute(predictions=predictions, references=labels)\n",
    "\n",
    "os.environ[\"NEPTUNE_PROJECT\"] = 'common/huggingface-integration'\n",
    "os.environ[\"NEPTUNE_API_TOKEN\"] = \"eyJhcGlfYWRkcmVzcyI6Imh0dHBzOi8vYXBwLm5lcHR1bmUuYWkiLCJhcGlfdXJsIjoiaHR0cHM6Ly9hcHAubmVwdHVuZS5haSIsImFwaV9rZXkiOiJhMjI0YjQ1Yi1iMGY4LTRmNjgtOGRjZC05MzEyMjVkMDRlMzEifQ==\"\n"
   ]
  },
  {
   "cell_type": "markdown",
   "metadata": {},
   "source": [
    "Prepare dataset, tokenizer, and pretrained model."
   ]
  },
  {
   "cell_type": "code",
   "execution_count": 2,
   "metadata": {},
   "outputs": [
    {
     "name": "stderr",
     "output_type": "stream",
     "text": [
      "Reusing dataset glue (/home/.cache/huggingface/datasets/glue/mrpc/1.0.0/dacbe3125aa31d7f70367a07a8a9e72a5a0bfeb5fc42e75c9db75b96da6053ad)\n"
     ]
    },
    {
     "data": {
      "application/vnd.jupyter.widget-view+json": {
       "model_id": "69fe3e581c854ced96c57f4ffe75a820",
       "version_major": 2,
       "version_minor": 0
      },
      "text/plain": [
       "  0%|          | 0/3 [00:00<?, ?it/s]"
      ]
     },
     "metadata": {},
     "output_type": "display_data"
    },
    {
     "name": "stderr",
     "output_type": "stream",
     "text": [
      "Some weights of the model checkpoint at google/mobilebert-uncased were not used when initializing MobileBertForSequenceClassification: ['cls.predictions.dense.weight', 'cls.predictions.decoder.bias', 'cls.predictions.bias', 'cls.predictions.decoder.weight', 'cls.predictions.transform.LayerNorm.weight', 'cls.predictions.transform.LayerNorm.bias', 'cls.seq_relationship.weight', 'cls.predictions.transform.dense.bias', 'cls.predictions.transform.dense.weight', 'cls.seq_relationship.bias']\n",
      "- This IS expected if you are initializing MobileBertForSequenceClassification from the checkpoint of a model trained on another task or with another architecture (e.g. initializing a BertForSequenceClassification model from a BertForPreTraining model).\n",
      "- This IS NOT expected if you are initializing MobileBertForSequenceClassification from the checkpoint of a model that you expect to be exactly identical (initializing a BertForSequenceClassification model from a BertForSequenceClassification model).\n",
      "Some weights of MobileBertForSequenceClassification were not initialized from the model checkpoint at google/mobilebert-uncased and are newly initialized: ['classifier.weight', 'classifier.bias']\n",
      "You should probably TRAIN this model on a down-stream task to be able to use it for predictions and inference.\n",
      "Loading cached processed dataset at /home/.cache/huggingface/datasets/glue/mrpc/1.0.0/dacbe3125aa31d7f70367a07a8a9e72a5a0bfeb5fc42e75c9db75b96da6053ad/cache-a96720d569b97cab.arrow\n",
      "Loading cached processed dataset at /home/.cache/huggingface/datasets/glue/mrpc/1.0.0/dacbe3125aa31d7f70367a07a8a9e72a5a0bfeb5fc42e75c9db75b96da6053ad/cache-c257bde478a36d0d.arrow\n",
      "Loading cached processed dataset at /home/.cache/huggingface/datasets/glue/mrpc/1.0.0/dacbe3125aa31d7f70367a07a8a9e72a5a0bfeb5fc42e75c9db75b96da6053ad/cache-97db1a074f9f7506.arrow\n"
     ]
    }
   ],
   "source": [
    "raw_dataset = load_dataset(\"glue\", \"mrpc\") \n",
    "#checkpoint = \"distilbert-base-uncased\"\n",
    "checkpoint = \"google/mobilebert-uncased\"\n",
    "\n",
    "tokenizer = AutoTokenizer.from_pretrained(checkpoint)\n",
    "model = AutoModelForSequenceClassification.from_pretrained(checkpoint, num_labels=2)\n",
    "\n",
    "tokenized_dataset = raw_dataset.map(tokenize_function, batched=True)"
   ]
  },
  {
   "cell_type": "code",
   "execution_count": 3,
   "metadata": {},
   "outputs": [
    {
     "name": "stderr",
     "output_type": "stream",
     "text": [
      "The following columns in the training set  don't have a corresponding argument in `MobileBertForSequenceClassification.forward` and have been ignored: sentence2, sentence1, idx.\n",
      "/home/transformers/src/transformers/optimization.py:306: FutureWarning: This implementation of AdamW is deprecated and will be removed in a future version. Use thePyTorch implementation torch.optim.AdamW instead, or set `no_deprecation_warning=True` to disable this warning\n",
      "  warnings.warn(\n",
      "***** Running training *****\n",
      "  Num examples = 3668\n",
      "  Num Epochs = 3\n",
      "  Instantaneous batch size per device = 40\n",
      "  Total train batch size (w. parallel, distributed & accumulation) = 40\n",
      "  Gradient Accumulation steps = 1\n",
      "  Total optimization steps = 276\n"
     ]
    },
    {
     "name": "stdout",
     "output_type": "stream",
     "text": [
      "https://app.neptune.ai/common/huggingface-integration/e/HUG-86\n",
      "Remember to stop your run once you’ve finished logging your metadata (https://docs.neptune.ai/api-reference/run#.stop). It will be stopped automatically only when the notebook kernel/interactive console is terminated.\n"
     ]
    },
    {
     "data": {
      "text/html": [
       "\n",
       "    <div>\n",
       "      \n",
       "      <progress value='276' max='276' style='width:300px; height:20px; vertical-align: middle;'></progress>\n",
       "      [276/276 01:47, Epoch 3/3]\n",
       "    </div>\n",
       "    <table border=\"1\" class=\"dataframe\">\n",
       "  <thead>\n",
       " <tr style=\"text-align: left;\">\n",
       "      <th>Step</th>\n",
       "      <th>Training Loss</th>\n",
       "      <th>Validation Loss</th>\n",
       "      <th>Accuracy</th>\n",
       "      <th>F1</th>\n",
       "    </tr>\n",
       "  </thead>\n",
       "  <tbody>\n",
       "    <tr>\n",
       "      <td>20</td>\n",
       "      <td>12764.608400</td>\n",
       "      <td>16998.111328</td>\n",
       "      <td>0.671569</td>\n",
       "      <td>0.793846</td>\n",
       "    </tr>\n",
       "    <tr>\n",
       "      <td>40</td>\n",
       "      <td>0.716700</td>\n",
       "      <td>1.042160</td>\n",
       "      <td>0.458333</td>\n",
       "      <td>0.440506</td>\n",
       "    </tr>\n",
       "    <tr>\n",
       "      <td>60</td>\n",
       "      <td>0.676400</td>\n",
       "      <td>0.675543</td>\n",
       "      <td>0.686275</td>\n",
       "      <td>0.813411</td>\n",
       "    </tr>\n",
       "    <tr>\n",
       "      <td>80</td>\n",
       "      <td>0.597400</td>\n",
       "      <td>0.558097</td>\n",
       "      <td>0.730392</td>\n",
       "      <td>0.827044</td>\n",
       "    </tr>\n",
       "    <tr>\n",
       "      <td>100</td>\n",
       "      <td>0.717300</td>\n",
       "      <td>0.489680</td>\n",
       "      <td>0.759804</td>\n",
       "      <td>0.837748</td>\n",
       "    </tr>\n",
       "    <tr>\n",
       "      <td>120</td>\n",
       "      <td>0.635600</td>\n",
       "      <td>0.462595</td>\n",
       "      <td>0.799020</td>\n",
       "      <td>0.858621</td>\n",
       "    </tr>\n",
       "    <tr>\n",
       "      <td>140</td>\n",
       "      <td>0.454600</td>\n",
       "      <td>0.457977</td>\n",
       "      <td>0.801471</td>\n",
       "      <td>0.862944</td>\n",
       "    </tr>\n",
       "    <tr>\n",
       "      <td>160</td>\n",
       "      <td>0.420300</td>\n",
       "      <td>0.429464</td>\n",
       "      <td>0.789216</td>\n",
       "      <td>0.862179</td>\n",
       "    </tr>\n",
       "    <tr>\n",
       "      <td>180</td>\n",
       "      <td>0.427900</td>\n",
       "      <td>0.396557</td>\n",
       "      <td>0.808824</td>\n",
       "      <td>0.872131</td>\n",
       "    </tr>\n",
       "    <tr>\n",
       "      <td>200</td>\n",
       "      <td>0.614600</td>\n",
       "      <td>0.388725</td>\n",
       "      <td>0.806373</td>\n",
       "      <td>0.871545</td>\n",
       "    </tr>\n",
       "    <tr>\n",
       "      <td>220</td>\n",
       "      <td>0.326500</td>\n",
       "      <td>0.348443</td>\n",
       "      <td>0.840686</td>\n",
       "      <td>0.882033</td>\n",
       "    </tr>\n",
       "    <tr>\n",
       "      <td>240</td>\n",
       "      <td>0.533200</td>\n",
       "      <td>0.352630</td>\n",
       "      <td>0.835784</td>\n",
       "      <td>0.888889</td>\n",
       "    </tr>\n",
       "    <tr>\n",
       "      <td>260</td>\n",
       "      <td>0.397900</td>\n",
       "      <td>0.337190</td>\n",
       "      <td>0.848039</td>\n",
       "      <td>0.895270</td>\n",
       "    </tr>\n",
       "  </tbody>\n",
       "</table><p>"
      ],
      "text/plain": [
       "<IPython.core.display.HTML object>"
      ]
     },
     "metadata": {},
     "output_type": "display_data"
    },
    {
     "name": "stderr",
     "output_type": "stream",
     "text": [
      "The following columns in the evaluation set  don't have a corresponding argument in `MobileBertForSequenceClassification.forward` and have been ignored: sentence2, sentence1, idx.\n",
      "***** Running Evaluation *****\n",
      "  Num examples = 408\n",
      "  Batch size = 40\n",
      "Error occurred during asynchronous operation processing: X-coordinates (step) must be strictly increasing for series attribute: finetuning/train/epoch. Invalid point: 20.0\n",
      "The following columns in the evaluation set  don't have a corresponding argument in `MobileBertForSequenceClassification.forward` and have been ignored: sentence2, sentence1, idx.\n",
      "***** Running Evaluation *****\n",
      "  Num examples = 408\n",
      "  Batch size = 40\n",
      "Error occurred during asynchronous operation processing: X-coordinates (step) must be strictly increasing for series attribute: finetuning/train/epoch. Invalid point: 40.0\n",
      "The following columns in the evaluation set  don't have a corresponding argument in `MobileBertForSequenceClassification.forward` and have been ignored: sentence2, sentence1, idx.\n",
      "***** Running Evaluation *****\n",
      "  Num examples = 408\n",
      "  Batch size = 40\n",
      "The following columns in the evaluation set  don't have a corresponding argument in `MobileBertForSequenceClassification.forward` and have been ignored: sentence2, sentence1, idx.\n",
      "***** Running Evaluation *****\n",
      "  Num examples = 408\n",
      "  Batch size = 40\n",
      "Error occurred during asynchronous operation processing: X-coordinates (step) must be strictly increasing for series attribute: finetuning/train/epoch. Invalid point: 60.0\n",
      "Saving model checkpoint to fast-mobilebert-mrpc/checkpoint-92\n",
      "Configuration saved in fast-mobilebert-mrpc/checkpoint-92/config.json\n",
      "Model weights saved in fast-mobilebert-mrpc/checkpoint-92/pytorch_model.bin\n",
      "tokenizer config file saved in fast-mobilebert-mrpc/checkpoint-92/tokenizer_config.json\n",
      "Special tokens file saved in fast-mobilebert-mrpc/checkpoint-92/special_tokens_map.json\n",
      "Error occurred during asynchronous operation processing: X-coordinates (step) must be strictly increasing for series attribute: finetuning/train/epoch. Invalid point: 80.0\n",
      "The following columns in the evaluation set  don't have a corresponding argument in `MobileBertForSequenceClassification.forward` and have been ignored: sentence2, sentence1, idx.\n",
      "***** Running Evaluation *****\n",
      "  Num examples = 408\n",
      "  Batch size = 40\n",
      "Error occurred during asynchronous operation processing: X-coordinates (step) must be strictly increasing for series attribute: finetuning/train/epoch. Invalid point: 100.0\n",
      "The following columns in the evaluation set  don't have a corresponding argument in `MobileBertForSequenceClassification.forward` and have been ignored: sentence2, sentence1, idx.\n",
      "***** Running Evaluation *****\n",
      "  Num examples = 408\n",
      "  Batch size = 40\n",
      "Error occurred during asynchronous operation processing: X-coordinates (step) must be strictly increasing for series attribute: finetuning/train/epoch. Invalid point: 120.0\n",
      "The following columns in the evaluation set  don't have a corresponding argument in `MobileBertForSequenceClassification.forward` and have been ignored: sentence2, sentence1, idx.\n",
      "***** Running Evaluation *****\n",
      "  Num examples = 408\n",
      "  Batch size = 40\n",
      "Error occurred during asynchronous operation processing: X-coordinates (step) must be strictly increasing for series attribute: finetuning/train/epoch. Invalid point: 140.0\n",
      "The following columns in the evaluation set  don't have a corresponding argument in `MobileBertForSequenceClassification.forward` and have been ignored: sentence2, sentence1, idx.\n",
      "***** Running Evaluation *****\n",
      "  Num examples = 408\n",
      "  Batch size = 40\n",
      "Error occurred during asynchronous operation processing: X-coordinates (step) must be strictly increasing for series attribute: finetuning/train/epoch. Invalid point: 160.0\n",
      "The following columns in the evaluation set  don't have a corresponding argument in `MobileBertForSequenceClassification.forward` and have been ignored: sentence2, sentence1, idx.\n",
      "***** Running Evaluation *****\n",
      "  Num examples = 408\n",
      "  Batch size = 40\n",
      "Saving model checkpoint to fast-mobilebert-mrpc/checkpoint-184\n",
      "Configuration saved in fast-mobilebert-mrpc/checkpoint-184/config.json\n",
      "Model weights saved in fast-mobilebert-mrpc/checkpoint-184/pytorch_model.bin\n",
      "tokenizer config file saved in fast-mobilebert-mrpc/checkpoint-184/tokenizer_config.json\n",
      "Special tokens file saved in fast-mobilebert-mrpc/checkpoint-184/special_tokens_map.json\n",
      "Error occurred during asynchronous operation processing: X-coordinates (step) must be strictly increasing for series attribute: finetuning/train/epoch. Invalid point: 180.0\n",
      "The following columns in the evaluation set  don't have a corresponding argument in `MobileBertForSequenceClassification.forward` and have been ignored: sentence2, sentence1, idx.\n",
      "***** Running Evaluation *****\n",
      "  Num examples = 408\n",
      "  Batch size = 40\n",
      "Error occurred during asynchronous operation processing: X-coordinates (step) must be strictly increasing for series attribute: finetuning/train/epoch. Invalid point: 200.0\n",
      "The following columns in the evaluation set  don't have a corresponding argument in `MobileBertForSequenceClassification.forward` and have been ignored: sentence2, sentence1, idx.\n",
      "***** Running Evaluation *****\n",
      "  Num examples = 408\n",
      "  Batch size = 40\n",
      "Error occurred during asynchronous operation processing: X-coordinates (step) must be strictly increasing for series attribute: finetuning/train/epoch. Invalid point: 220.0\n",
      "The following columns in the evaluation set  don't have a corresponding argument in `MobileBertForSequenceClassification.forward` and have been ignored: sentence2, sentence1, idx.\n",
      "***** Running Evaluation *****\n",
      "  Num examples = 408\n",
      "  Batch size = 40\n",
      "Error occurred during asynchronous operation processing: X-coordinates (step) must be strictly increasing for series attribute: finetuning/train/epoch. Invalid point: 240.0\n",
      "The following columns in the evaluation set  don't have a corresponding argument in `MobileBertForSequenceClassification.forward` and have been ignored: sentence2, sentence1, idx.\n",
      "***** Running Evaluation *****\n",
      "  Num examples = 408\n",
      "  Batch size = 40\n",
      "Error occurred during asynchronous operation processing: X-coordinates (step) must be strictly increasing for series attribute: finetuning/train/epoch. Invalid point: 260.0\n",
      "Saving model checkpoint to fast-mobilebert-mrpc/checkpoint-276\n",
      "Configuration saved in fast-mobilebert-mrpc/checkpoint-276/config.json\n",
      "Model weights saved in fast-mobilebert-mrpc/checkpoint-276/pytorch_model.bin\n",
      "tokenizer config file saved in fast-mobilebert-mrpc/checkpoint-276/tokenizer_config.json\n",
      "Special tokens file saved in fast-mobilebert-mrpc/checkpoint-276/special_tokens_map.json\n",
      "\n",
      "\n",
      "Training completed. Do not forget to share your model on huggingface.co/models =)\n",
      "\n",
      "\n"
     ]
    },
    {
     "name": "stdout",
     "output_type": "stream",
     "text": [
      "Shutting down background jobs, please wait a moment...\n",
      "Done!\n"
     ]
    },
    {
     "name": "stderr",
     "output_type": "stream",
     "text": [
      "Waiting for the remaining 60 operations to synchronize with Neptune. Do not kill this process.\n",
      "Still waiting for the remaining 60 operations (0.00% done). Please wait.\n",
      "Still waiting for the remaining 60 operations (0.00% done). Please wait.\n",
      "Still waiting for the remaining 60 operations (0.00% done). Please wait.\n",
      "Error occurred during asynchronous operation processing: X-coordinates (step) must be strictly increasing for series attribute: finetuning/train/epoch. Invalid point: 276.0\n"
     ]
    },
    {
     "name": "stdout",
     "output_type": "stream",
     "text": [
      "All 60 operations synced, thanks for waiting!\n"
     ]
    }
   ],
   "source": [
    "''' Exemplary run '''\n",
    "\n",
    "training_args = TrainingArguments(\n",
    "    \"fast-mobilebert-mrpc\", \n",
    "    evaluation_strategy=\"steps\",\n",
    "    eval_steps = 20,\n",
    "    save_strategy=\"epoch\",\n",
    "    logging_steps=1, \n",
    "    per_device_train_batch_size=40,\n",
    "    per_device_eval_batch_size=40,\n",
    "    num_train_epochs=3, \n",
    "    report_to = None\n",
    "    )\n",
    "\n",
    "neptuneClbck = NeptuneCallback(name=\"mobilebert-mrpc\",description=\"Mobilebert fine-tuned on glue/mrpc\", log_checkpoints = \"last\")\n",
    "\n",
    "trainer = Trainer(\n",
    "    model,\n",
    "    training_args,\n",
    "    train_dataset = tokenized_dataset[\"train\"],\n",
    "    eval_dataset  = tokenized_dataset[\"validation\"],\n",
    "    tokenizer=tokenizer,\n",
    "    compute_metrics=compute_metrics,\n",
    "    callbacks=[neptuneClbck]\n",
    "    )\n",
    "\n",
    "trainer.train()\n",
    "\n",
    "# Neptune run is created when calling trainer.train(), so we can only add custom parameter after:\n",
    "neptuneClbck._neptune_run[\"parameters/custom_parameter\"] = \"Better defaults\"\n",
    "neptuneClbck._neptune_run[\"sys/tags\"].add([\"modified\", \"better defaults\"])\n",
    "\n",
    "neptuneClbck.stop_run()"
   ]
  },
  {
   "cell_type": "code",
   "execution_count": 4,
   "metadata": {},
   "outputs": [],
   "source": [
    "neptuneClbck.stop_run()"
   ]
  }
 ],
 "metadata": {
  "kernelspec": {
   "display_name": "Python 3 (ipykernel)",
   "language": "python",
   "name": "python3"
  },
  "language_info": {
   "codemirror_mode": {
    "name": "ipython",
    "version": 3
   },
   "file_extension": ".py",
   "mimetype": "text/x-python",
   "name": "python",
   "nbconvert_exporter": "python",
   "pygments_lexer": "ipython3",
   "version": "3.8.10"
  }
 },
 "nbformat": 4,
 "nbformat_minor": 4
}
